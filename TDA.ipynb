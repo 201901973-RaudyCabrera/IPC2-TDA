{
  "nbformat": 4,
  "nbformat_minor": 0,
  "metadata": {
    "colab": {
      "name": "TDA.ipynb",
      "provenance": [],
      "authorship_tag": "ABX9TyOltYy9LHfVuz8UK36qx4+k",
      "include_colab_link": true
    },
    "kernelspec": {
      "name": "python3",
      "display_name": "Python 3"
    }
  },
  "cells": [
    {
      "cell_type": "markdown",
      "metadata": {
        "id": "view-in-github",
        "colab_type": "text"
      },
      "source": [
        "<a href=\"https://colab.research.google.com/github/201901973-RaudyCabrera/IPC2-TDA/blob/main/TDA.ipynb\" target=\"_parent\"><img src=\"https://colab.research.google.com/assets/colab-badge.svg\" alt=\"Open In Colab\"/></a>"
      ]
    },
    {
      "cell_type": "markdown",
      "metadata": {
        "id": "2IXlsUwbc0pf"
      },
      "source": [
        "## **Ejercicio de Listas Enlazadas**"
      ]
    },
    {
      "cell_type": "code",
      "metadata": {
        "id": "V0hXx1g3d6pE"
      },
      "source": [
        "class cliente:\r\n",
        "  def __init__(self, nombre, no_habitacion):\r\n",
        "    self.nombre = nombre\r\n",
        "    self.no_habitacion = no_habitacion"
      ],
      "execution_count": 8,
      "outputs": []
    },
    {
      "cell_type": "code",
      "metadata": {
        "id": "_NnnDpYzW8CU"
      },
      "source": [
        "class nodo:\r\n",
        "  def __init__(self, cliente=None, next=None):\r\n",
        "    self.cliente=cliente\r\n",
        "    self.next=next"
      ],
      "execution_count": 9,
      "outputs": []
    },
    {
      "cell_type": "code",
      "metadata": {
        "id": "FXKFbjyaXDwz"
      },
      "source": [
        "class linked_list:\r\n",
        "  def __init__(self):\r\n",
        "    self.head = None\r\n",
        "\r\n",
        "  def insertar(self, cliente):\r\n",
        "    if not self.head:\r\n",
        "      self.head = nodo(cliente=cliente)\r\n",
        "      return\r\n",
        "\r\n",
        "    current = self.head #actual - current\r\n",
        "\r\n",
        "    while current.next:\r\n",
        "      current = current.next\r\n",
        "\r\n",
        "    current.next = nodo(cliente=cliente)\r\n",
        "\r\n",
        "  def imprimir(self):\r\n",
        "    nodo = self.head\r\n",
        "    while nodo != None:\r\n",
        "      print(nodo.cliente.nombre, end = \"=> \")\r\n",
        "      nodo = nodo.next\r\n",
        "\r\n",
        "  def eliminar(self, no_habitacion):\r\n",
        "    current = self.head\r\n",
        "    previous = None\r\n",
        "\r\n",
        "    while current and current.cliente.no_habitacion != no_habitacion:\r\n",
        "      previous = current\r\n",
        "      current = current.next\r\n",
        "\r\n",
        "    if previous is None:\r\n",
        "      self.head = current.next\r\n",
        "    elif current:\r\n",
        "      previous.next = current.next\r\n",
        "      current.next = None\r\n"
      ],
      "execution_count": 10,
      "outputs": []
    },
    {
      "cell_type": "code",
      "metadata": {
        "id": "Wd9mGr_wcvy0"
      },
      "source": [
        "c1 = cliente(\"Estuardo Zapeta\", 101)\r\n",
        "c2 = cliente(\"Marco Lopez\", 103)\r\n",
        "c3 = cliente(\"Josue Arias\", 204)\r\n",
        "c4 = cliente(\"Gladys Olmos\", 302)"
      ],
      "execution_count": 11,
      "outputs": []
    },
    {
      "cell_type": "code",
      "metadata": {
        "id": "go6e6Qe1dPWS"
      },
      "source": [
        "lista = linked_list()\r\n",
        "lista.insertar(c1)\r\n",
        "lista.insertar(c2)\r\n",
        "lista.insertar(c3)\r\n",
        "lista.insertar(c4)"
      ],
      "execution_count": 12,
      "outputs": []
    },
    {
      "cell_type": "code",
      "metadata": {
        "id": "Qr6WkqyjjiAg",
        "colab": {
          "base_uri": "https://localhost:8080/"
        },
        "outputId": "d2821db4-7031-44f0-a866-5504d55ca551"
      },
      "source": [
        "lista.imprimir()"
      ],
      "execution_count": 13,
      "outputs": [
        {
          "output_type": "stream",
          "text": [
            "Estuardo Zapeta=> Marco Lopez=> Josue Arias=> Gladys Olmos=> "
          ],
          "name": "stdout"
        }
      ]
    },
    {
      "cell_type": "code",
      "metadata": {
        "id": "-ZXoVtZugGPB"
      },
      "source": [
        "lista.eliminar(101)"
      ],
      "execution_count": 14,
      "outputs": []
    },
    {
      "cell_type": "code",
      "metadata": {
        "id": "X8vZXdQSknZs"
      },
      "source": [
        ""
      ],
      "execution_count": null,
      "outputs": []
    },
    {
      "cell_type": "code",
      "metadata": {
        "id": "x7ZUEziWk3pX",
        "colab": {
          "base_uri": "https://localhost:8080/"
        },
        "outputId": "23b26c2c-57b4-4f33-a052-7d62d0e0a42e"
      },
      "source": [
        "lista.imprimir()"
      ],
      "execution_count": 15,
      "outputs": [
        {
          "output_type": "stream",
          "text": [
            "Estuardo Zapeta=> Marco Lopez=> Josue Arias=> Gladys Olmos=> "
          ],
          "name": "stdout"
        }
      ]
    },
    {
      "cell_type": "markdown",
      "metadata": {
        "id": "mNqDU3gtoahh"
      },
      "source": [
        "## **Ejercico De Listas Circulares**"
      ]
    },
    {
      "cell_type": "code",
      "metadata": {
        "id": "T65BbN20ofNP"
      },
      "source": [
        "class linked_list_circular:\r\n",
        "  def __init__(self, head= None):\r\n",
        "    self.head = head\r\n",
        "    self.size = 0\r\n",
        "\r\n",
        "  def insertar(self, cliente):\r\n",
        "    if self.size == 0:\r\n",
        "      self.head = nodo(cliente=cliente)\r\n",
        "      self.head.next = self.head\r\n",
        "    else:\r\n",
        "      new_nodo = nodo(cliente=cliente, next=self.head.next)\r\n",
        "      self.head.next = new_nodo\r\n",
        "    self.size += 1\r\n",
        "\r\n",
        "  def imprimir(self):\r\n",
        "    if self.head is None:\r\n",
        "      return\r\n",
        "    nodo = self.head\r\n",
        "    print(nodo.cliente.nombre, end = \" => \")\r\n",
        "    while nodo.next != self.head:\r\n",
        "      nodo = nodo.next\r\n",
        "      print(nodo.cliente.nombre, end = \" => \")\r\n",
        "\r\n",
        "  def eliminar(self, no_habitacion):\r\n",
        "    nodo = self.head\r\n",
        "    previous = None\r\n",
        "\r\n",
        "    while True:\r\n",
        "      if nodo.cliente.no_habitacion == no_habitacion:\r\n",
        "        if previous is not None:\r\n",
        "          previous.next = nodo.next\r\n",
        "        else:\r\n",
        "          while nodo.next != self.head:\r\n",
        "            nodo = nodo.next\r\n",
        "          nodo.next = self.head.next\r\n",
        "          self.head = self.head.next\r\n",
        "        self.size -= 1\r\n",
        "        return True\r\n",
        "      elif nodo.next == self.head:\r\n",
        "        return False\r\n",
        "\r\n",
        "      \r\n",
        "      previous = nodo\r\n",
        "      nodo = nodo.next"
      ],
      "execution_count": 22,
      "outputs": []
    },
    {
      "cell_type": "code",
      "metadata": {
        "id": "ruDK75JkRN5S"
      },
      "source": [
        "lista_c = linked_list_circular()\r\n",
        "lista_c.insertar(c1)\r\n",
        "lista_c.insertar(c2)\r\n",
        "lista_c.insertar(c3)\r\n",
        "lista_c.insertar(c4)"
      ],
      "execution_count": 23,
      "outputs": []
    },
    {
      "cell_type": "code",
      "metadata": {
        "colab": {
          "base_uri": "https://localhost:8080/"
        },
        "id": "rCVjvkpwUa0Z",
        "outputId": "52ac0048-05d5-4615-8fe8-5eec264d5571"
      },
      "source": [
        "lista_c.imprimir()"
      ],
      "execution_count": 24,
      "outputs": [
        {
          "output_type": "stream",
          "text": [
            "Estuardo Zapeta => Gladys Olmos => Josue Arias => Marco Lopez => "
          ],
          "name": "stdout"
        }
      ]
    },
    {
      "cell_type": "code",
      "metadata": {
        "colab": {
          "base_uri": "https://localhost:8080/"
        },
        "id": "4YWW-fTEedy9",
        "outputId": "c9afbcd2-4ee3-4379-8c1b-58ec04843aba"
      },
      "source": [
        "lista_c.eliminar(101)"
      ],
      "execution_count": 25,
      "outputs": [
        {
          "output_type": "execute_result",
          "data": {
            "text/plain": [
              "True"
            ]
          },
          "metadata": {
            "tags": []
          },
          "execution_count": 25
        }
      ]
    },
    {
      "cell_type": "code",
      "metadata": {
        "colab": {
          "base_uri": "https://localhost:8080/"
        },
        "id": "NObEbPWlemvM",
        "outputId": "84740df6-5d1b-42b9-c048-09552827d396"
      },
      "source": [
        "lista_c.imprimir()"
      ],
      "execution_count": 26,
      "outputs": [
        {
          "output_type": "stream",
          "text": [
            "Gladys Olmos => Josue Arias => Marco Lopez => "
          ],
          "name": "stdout"
        }
      ]
    },
    {
      "cell_type": "code",
      "metadata": {
        "colab": {
          "base_uri": "https://localhost:8080/"
        },
        "id": "1KerUzcdfN5C",
        "outputId": "fdff66a5-c76d-4557-d19e-0bbd9fb71c76"
      },
      "source": [
        "lista_c.eliminar(103)"
      ],
      "execution_count": 27,
      "outputs": [
        {
          "output_type": "execute_result",
          "data": {
            "text/plain": [
              "True"
            ]
          },
          "metadata": {
            "tags": []
          },
          "execution_count": 27
        }
      ]
    },
    {
      "cell_type": "code",
      "metadata": {
        "colab": {
          "base_uri": "https://localhost:8080/"
        },
        "id": "byrUBLusfODZ",
        "outputId": "81bcb87e-af7a-4033-ed85-db20a369d489"
      },
      "source": [
        "lista_c.imprimir()"
      ],
      "execution_count": 28,
      "outputs": [
        {
          "output_type": "stream",
          "text": [
            "Gladys Olmos => Josue Arias => "
          ],
          "name": "stdout"
        }
      ]
    },
    {
      "cell_type": "markdown",
      "metadata": {
        "id": "odPcVXvEjIAq"
      },
      "source": [
        "## **Listas Doblemente Enlazadas**"
      ]
    },
    {
      "cell_type": "code",
      "metadata": {
        "id": "lwXHSSXmjK7P"
      },
      "source": [
        "class node_de:\r\n",
        "  def __init__(self, cliente=None, next=None, previous=None):\r\n",
        "    self.cliente = cliente\r\n",
        "    self.next = next\r\n",
        "    self.previous = previous "
      ],
      "execution_count": null,
      "outputs": []
    }
  ]
}